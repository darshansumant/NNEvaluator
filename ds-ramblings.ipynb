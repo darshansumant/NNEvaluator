{
 "cells": [
  {
   "cell_type": "code",
   "execution_count": 1,
   "metadata": {},
   "outputs": [],
   "source": [
    "# setup\n",
    "import pandas as pd\n",
    "import numpy as np"
   ]
  },
  {
   "cell_type": "code",
   "execution_count": 8,
   "metadata": {},
   "outputs": [],
   "source": [
    "# read in linter output\n",
    "path = './lint_outputs/'\n",
    "file = 'cc_results.txt'\n",
    "\n",
    "lines = [line.rstrip('\\n') for line in open(path + file)]"
   ]
  },
  {
   "cell_type": "code",
   "execution_count": 3,
   "metadata": {},
   "outputs": [
    {
     "name": "stdout",
     "output_type": "stream",
     "text": [
      "* DuplicateExampleDetector\n",
      "* NonNormalNumericFeatureDetector\n"
     ]
    },
    {
     "data": {
      "text/plain": [
       "['DuplicateExampleDetector', 'NonNormalNumericFeatureDetector']"
      ]
     },
     "execution_count": 3,
     "metadata": {},
     "output_type": "execute_result"
    }
   ],
   "source": [
    "# identify the Data Linters triggered on the dataset\n",
    "linters_triggered = []\n",
    "i = 1\n",
    "while lines[i] != '':\n",
    "    print(lines[i])\n",
    "    linters_triggered.append(lines[i][2:])\n",
    "    i += 1\n",
    "\n",
    "print(linters_triggered)"
   ]
  },
  {
   "cell_type": "code",
   "execution_count": 7,
   "metadata": {},
   "outputs": [
    {
     "name": "stdout",
     "output_type": "stream",
     "text": [
      "NonNormalNumericFeatureDetector 49 13\n",
      "V6\n",
      "V1\n",
      "Time\n"
     ]
    },
    {
     "data": {
      "text/plain": [
       "{'Time': 'rescale_col', 'V1': 'rescale_col', 'V6': 'rescale_col'}"
      ]
     },
     "execution_count": 7,
     "metadata": {},
     "output_type": "execute_result"
    }
   ],
   "source": [
    "# Data Linter to coersion function mapper\n",
    "result_dict = {}\n",
    "coerce = {'DateTimeAsStringDetector': 'string_to_date',\\\n",
    "          'TokenizableStringDetector': 'to_categorical',\\\n",
    "          'ZipCodeAsNumberDetector': 'number_to_zipcode',\\\n",
    "          'NumberAsStringDetector': 'string_to_number',\\\n",
    "          'NonNormalNumericFeatureDetector': 'rescale_col',\\\n",
    "          'UniqueValueCountsDetector': 'carry_on',\\\n",
    "          'IntAsFloatDetector': 'float_to_int',\\\n",
    "          'UncommonSignDetector': 'carry_on',\\\n",
    "          'DuplicateExampleDetector': 'carry_on',\\\n",
    "          'EmptyExampleDetector': 'carry_on',\\\n",
    "          'UncommonListLengthDetector': 'carry_on',\\\n",
    "          'TailedDistributionDetector': 'remove_tail',\\\n",
    "          'CircularDomainDetector': 'carry_on'\n",
    "          }"
   ]
  },
  {
   "cell_type": "code",
   "execution_count": null,
   "metadata": {},
   "outputs": [],
   "source": [
    "# Given a Data Linter triggered, identify the columns to coerce\n",
    "def cols_to_coerce(trigger):\n",
    "    \n",
    "    i = lines.index(trigger)\n",
    "    j = lines[i+2:].index('='*80)\n",
    "\n",
    "    result_dict[coerce_type] = []\n",
    "    k = j - 1\n",
    "    while lines[i+2:][k][0] == '*':\n",
    "        line = lines[i+2:][k]\n",
    "        col = line.split()[1]\n",
    "        \n",
    "        result_dict[coerce_type].append(col)\n",
    "        k -= 1\n"
   ]
  },
  {
   "cell_type": "code",
   "execution_count": null,
   "metadata": {},
   "outputs": [],
   "source": [
    "# For each Data Linter triggered, identify the columns to coerce\n",
    "for trigger in linters_triggered:\n",
    "    \n",
    "    coerce_type = coerce[trigger]\n",
    "    if coerce_type != 'carry_on':\n",
    "        cols_to_coerce(trigger)\n"
   ]
  },
  {
   "cell_type": "code",
   "execution_count": null,
   "metadata": {},
   "outputs": [],
   "source": [
    "# check final output\n",
    "print(result_dict)"
   ]
  }
 ],
 "metadata": {
  "kernelspec": {
   "display_name": "Python 3",
   "language": "python",
   "name": "python3"
  },
  "language_info": {
   "codemirror_mode": {
    "name": "ipython",
    "version": 3
   },
   "file_extension": ".py",
   "mimetype": "text/x-python",
   "name": "python",
   "nbconvert_exporter": "python",
   "pygments_lexer": "ipython3",
   "version": "3.6.4"
  }
 },
 "nbformat": 4,
 "nbformat_minor": 2
}
