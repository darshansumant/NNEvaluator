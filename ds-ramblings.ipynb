{
 "cells": [
  {
   "cell_type": "code",
   "execution_count": 1,
   "metadata": {},
   "outputs": [],
   "source": [
    "import pandas as pd\n",
    "import numpy as np"
   ]
  },
  {
   "cell_type": "code",
   "execution_count": 10,
   "metadata": {},
   "outputs": [],
   "source": [
    "path = './lint_outputs/'\n",
    "filename = path + 'cc_results.txt'\n",
    "\n",
    "lines = [line.rstrip('\\n') for line in open(filename)]"
   ]
  },
  {
   "cell_type": "code",
   "execution_count": 22,
   "metadata": {},
   "outputs": [
    {
     "name": "stdout",
     "output_type": "stream",
     "text": [
      "* DuplicateExampleDetector\n",
      "* NonNormalNumericFeatureDetector\n"
     ]
    },
    {
     "data": {
      "text/plain": [
       "['DuplicateExampleDetector', 'NonNormalNumericFeatureDetector']"
      ]
     },
     "execution_count": 22,
     "metadata": {},
     "output_type": "execute_result"
    }
   ],
   "source": [
    "linters_triggered = []\n",
    "i = 1\n",
    "while lines[i] != '':\n",
    "    print(lines[i])\n",
    "    linters_triggered.append(lines[i][2:])\n",
    "    i += 1\n",
    "\n",
    "linters_triggered"
   ]
  },
  {
   "cell_type": "code",
   "execution_count": 23,
   "metadata": {},
   "outputs": [
    {
     "data": {
      "text/plain": [
       "'================================================================================='"
      ]
     },
     "execution_count": 23,
     "metadata": {},
     "output_type": "execute_result"
    }
   ],
   "source": [
    "'='*81"
   ]
  },
  {
   "cell_type": "code",
   "execution_count": 32,
   "metadata": {},
   "outputs": [
    {
     "name": "stdout",
     "output_type": "stream",
     "text": [
      "NonNormalNumericFeatureDetector 49 13\n"
     ]
    }
   ],
   "source": [
    "for trigger in linters_triggered:\n",
    "    if trigger != 'DuplicateExampleDetector':\n",
    "        i = lines.index(trigger)\n",
    "        j = lines[i+2:].index('='*80)\n",
    "        print(trigger, i, j)"
   ]
  },
  {
   "cell_type": "code",
   "execution_count": 33,
   "metadata": {},
   "outputs": [
    {
     "data": {
      "text/plain": [
       "['A feature flagged by this linter has a distribution that varies significantly',\n",
       " 'from the other numeric features.',\n",
       " 'Especially for linear models, poorly scaled features with high variance',\n",
       " '(e.g., all but one are in the range [-10, 10] but one is in [0, 100000])',\n",
       " 'can wash out the effects of the other features.',\n",
       " '',\n",
       " 'Quickfix: use the [standard score](https://en.wikipedia.org/wiki/Standard_score)',\n",
       " 'of (at least) the flagged features.',\n",
       " '-----',\n",
       " \"A 'typical' numeric feature in the dataset has mean -1.58e-11 and std dev 1.3874 but\",\n",
       " '* Time had mean = 94814, std_dev = 47488',\n",
       " '* V1 had mean = -2.2378e-10, std_dev = 1.9587',\n",
       " '* V6 had mean = -1.9836e-10']"
      ]
     },
     "execution_count": 33,
     "metadata": {},
     "output_type": "execute_result"
    }
   ],
   "source": [
    "lines[49+2:][:13]"
   ]
  },
  {
   "cell_type": "code",
   "execution_count": 40,
   "metadata": {},
   "outputs": [
    {
     "name": "stdout",
     "output_type": "stream",
     "text": [
      "NonNormalNumericFeatureDetector 49 13\n",
      "V6\n",
      "V1\n",
      "Time\n"
     ]
    },
    {
     "data": {
      "text/plain": [
       "{'Time': 'Rescale_col', 'V1': 'Rescale_col', 'V6': 'Rescale_col'}"
      ]
     },
     "execution_count": 40,
     "metadata": {},
     "output_type": "execute_result"
    }
   ],
   "source": [
    "result_dict = {}\n",
    "coerce = {'DateTimeAsStringDetector': 'String_to_Date',\\\n",
    "          'TokenizableStringDetector': 'Tokenize_String',\\\n",
    "          'ZipCodeAsNumberDetector': 'Number_to_ZipCode',\\\n",
    "          'NumberAsStringDetector': 'String_to_Number',\\\n",
    "          'NonNormalNumericFeatureDetector': 'Rescale_col',\\\n",
    "          'UniqueValueCountsDetector': 'Carry_On',\\\n",
    "          'IntAsFloatDetector': 'Float_to_Int',\\\n",
    "          'UncommonSignDetector': 'Carry_On',\\\n",
    "          'DuplicateExampleDetector': 'Carry_On',\\\n",
    "          'EmptyExampleDetector': 'Carry_On',\\\n",
    "          'UncommonListLengthDetector': 'Carry_On',\\\n",
    "          '': '',\\\n",
    "          '': '',\\\n",
    "          '': '',\\\n",
    "          '': '',\\\n",
    "          }\n",
    "for trigger in linters_triggered:\n",
    "    \n",
    "    coerce_type = coerce[trigger]\n",
    "    #if trigger != 'DuplicateExampleDetector':\n",
    "    if coerce_type != 'Carry_On':\n",
    "        i = lines.index(trigger)\n",
    "        j = lines[i+2:].index('='*80)\n",
    "        print(trigger, i, j)\n",
    "        k = j - 1\n",
    "        while lines[49+2:][k][0] == '*':\n",
    "            line = lines[49+2:][k]\n",
    "            col = line.split()[1]\n",
    "            print(col)\n",
    "            result_dict[col] = coerce_type\n",
    "            k -= 1\n",
    "\n",
    "result_dict"
   ]
  },
  {
   "cell_type": "code",
   "execution_count": null,
   "metadata": {},
   "outputs": [],
   "source": []
  }
 ],
 "metadata": {
  "kernelspec": {
   "display_name": "Python 3",
   "language": "python",
   "name": "python3"
  },
  "language_info": {
   "codemirror_mode": {
    "name": "ipython",
    "version": 3
   },
   "file_extension": ".py",
   "mimetype": "text/x-python",
   "name": "python",
   "nbconvert_exporter": "python",
   "pygments_lexer": "ipython3",
   "version": "3.6.4"
  }
 },
 "nbformat": 4,
 "nbformat_minor": 2
}
